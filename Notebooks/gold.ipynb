{
 "cells": [
  {
   "cell_type": "code",
   "execution_count": null,
   "id": "dfcc9d76",
   "metadata": {
    "vscode": {
     "languageId": "plaintext"
    }
   },
   "outputs": [],
   "source": [
    "from pyspark.sql import functions as F\n",
    "\n",
    "account =  # your storage account name\n",
    "container =  # your container name\n",
    "silver = f\"abfss://{container}@{account}.dfs.core.windows.net/silver\"\n",
    "gold   = f\"abfss://{container}@{account}.dfs.core.windows.net/gold\"\n",
    "\n",
    "op = spark.read.parquet(f\"{silver}/fact_order_products\")\n",
    "\n",
    "# product popularity + reorder ratio\n",
    "prod_feats = (op.groupBy(\"product_id\")\n",
    "                .agg(\n",
    "                    F.count(\"*\").alias(\"prod_times_ordered\"),\n",
    "                    F.avg(F.col(\"reordered\").cast(\"double\")).alias(\"prod_reorder_ratio\")\n",
    "                ))\n",
    "\n",
    "(prod_feats.repartition(1)\n",
    "    .write.mode(\"overwrite\")\n",
    "    .parquet(f\"{gold}/product_features\"))\n",
    "\n",
    "print(\"gold.product_features written\")"
   ]
  },
  {
   "cell_type": "code",
   "execution_count": null,
   "id": "acd2ea2c",
   "metadata": {
    "vscode": {
     "languageId": "plaintext"
    }
   },
   "outputs": [],
   "source": []
  }
 ],
 "metadata": {
  "language_info": {
   "name": "python"
  }
 },
 "nbformat": 4,
 "nbformat_minor": 5
}
